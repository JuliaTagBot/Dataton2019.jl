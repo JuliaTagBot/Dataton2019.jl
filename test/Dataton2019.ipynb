{
 "cells": [
  {
   "cell_type": "markdown",
   "metadata": {},
   "source": [
    "# Dataton2019 - Datatomicos\n",
    "\n",
    "En este Jupyter Notebook los usarios van a poder verificar nuestros resultados presentados en el Dataton 2019.\n",
    "Este notebook es un software libre en Julia, y solo necesitas presionar Shift+Enter para correrlo.\n",
    "\n",
    "Los comentarios ayudan a poder entender que hace el codigo, pero no es necesario saber programar."
   ]
  },
  {
   "cell_type": "code",
   "execution_count": null,
   "metadata": {},
   "outputs": [],
   "source": [
    "using Dataton2019\n",
    "using Test\n",
    "using DataDeps, DataFrames, LightGraphs, CSV, ZipFile, JSON"
   ]
  },
  {
   "cell_type": "code",
   "execution_count": null,
   "metadata": {},
   "outputs": [],
   "source": [
    "@testset \"Datos\" begin\n",
    "    #global t1 = readdir(datadep\"icijparadise2018\")[1]\n",
    "    #@test  \"csv_paradise_papers.2018-02-14.zip\" == t1\n",
    "    #global t2 = readdir(datadep\"icijpanamapapers2018\")[1]\n",
    "    #@test \"csv_panama_papers.2018-02-14.zip\" == t2\n",
    "    #global t3 = readdir(datadep\"icijoffshore2018\")[1]\n",
    "    #@test  \"csv_offshore_leaks.2018-02-14.zip\" == t3\n",
    "    global t4 = readdir(datadep\"icijbahamas2017\")[1]\n",
    "    @test  \"csv_bahamas_leaks.2017-12-19.zip\" == t4\n",
    "\n",
    "    # Esta es una version mini de el archivo \"contrataciones_arr.json\"\n",
    "    # Encontrado en https://github.com/pdnmx/datosdataton2019\n",
    "    # Minimizamos el archivo con el comando 'split -n 100 contartaciones_arr.json'\n",
    "    # y cambiamos el nombre de 'xaa' a 'mini.json'\n",
    "    #\n",
    "    # Encontramos la ultima entrada que se ha recortado y le pegamos un \"]\"\n",
    "    # \n",
    "    x = readlines(open(\"mini.json\"))[1];\n",
    "    #\n",
    "    # julia> findlast(\"{\\\"_id\\\"\",x)\n",
    "    # 22869056:22869061\n",
    "    #\n",
    "    s6 = JSON.parse(x[1:22869054] * \"]\");\n",
    "end"
   ]
  },
  {
   "cell_type": "code",
   "execution_count": null,
   "metadata": {},
   "outputs": [],
   "source": [
    "#pars2018 = ZipFile.Reader(datadep\"icijparadise2018\" * \"/\" * t1)\n",
    "#panama2018 = ZipFile.Reader(datadep\"icijpanamapapers2018\" * \"/\" * t2)\n",
    "#offshore2018 = ZipFile.Reader(datadep\"icijoffshore2018\" * \"/\" * t3)\n",
    "bahamas2017 = ZipFile.Reader(datadep\"icijbahamas2017\" * \"/\" * t4)"
   ]
  },
  {
   "cell_type": "code",
   "execution_count": null,
   "metadata": {},
   "outputs": [],
   "source": [
    "# uncompressedsize method  mtime            name\n",
    "# ----------------------------------------------\n",
    "#        234614743 Deflate 2018-02-13 17-44 paradise_papers.edges.csv\n",
    "#         47379240 Deflate 2018-02-13 17-40 paradise_papers.nodes.address.csv\n",
    "#         64159484 Deflate 2018-02-13 17-40 paradise_papers.nodes.entity.csv\n",
    "#           239615 Deflate 2018-02-13 17-40 paradise_papers.nodes.intermediary.csv\n",
    "#         52548340 Deflate 2018-02-13 17-40 paradise_papers.nodes.officer.csv\n",
    "#           371926 Deflate 2018-02-13 17-40 paradise_papers.nodes.other.csv\n",
    "\n",
    "# pars2018address = CSV.read(pars2018.files[2]; threaded = true)\n",
    "# pars2018entity = CSV.read(pars2018.files[3]; threaded = true)\n",
    "# pars2018intermediares = CSV.read(pars2018.files[4]; threaded = true)\n",
    "# pars2018officer = CSV.read(pars2018.files[5]; threaded = true)\n",
    "# pars2018other = CSV.read(pars2018.files[6]; threaded = true)\n",
    "\n",
    "# panama2018address = CSV.read(panama2018.files[1]; threaded = true)\n",
    "# panama2018entity = CSV.read(panama2018.files[2]; threaded = true)\n",
    "# panama2018interm = CSV.read(panama2018.files[3]; threaded = true)\n",
    "# panama2018officer = CSV.read(panama2018.files[4]; threaded = true)"
   ]
  },
  {
   "cell_type": "code",
   "execution_count": null,
   "metadata": {},
   "outputs": [],
   "source": [
    "s6 = JSON.parsefile(s6)"
   ]
  },
  {
   "cell_type": "code",
   "execution_count": null,
   "metadata": {},
   "outputs": [],
   "source": [
    "offshore2018address = CSV.read(offshore2018.files[1]; threaded = true)\n",
    "offshore2018entity = CSV.read(offshore2018.files[2]; threaded = true)\n",
    "offshore2018interm = CSV.read(offshore2018.files[3]; threaded = true)\n",
    "offshore2018officer = CSV.read(offshore2018.files[4]; threaded = true)\n",
    "\n",
    "# bahamas2017address = CSV.read(bahamas2017.files[1]; threaded = true)\n",
    "# bahamas2017entity = CSV.read(bahamas2017.files[2]; threaded = true)\n",
    "# bahamas2017interm = CSV.read(bahamas2017.files[3]; threaded = true)\n",
    "# bahamas2017officer = CSV.read(bahamas2017.files[4]; threaded = true)\n",
    "\n",
    "occursin.(offshore2018entity[:address], \"Mexico\") |> sum\n",
    "occursin.(offshore2018entity[:address], \"México\") |> sum\n",
    "occursin.(offshore2018entity[:address], \"MX\") |> sum\n",
    "occursin.(offshore2018entity[:address], \"Mx\") |> sum\n",
    "occursin.(offshore2018entity[:address], \"MEX\") |> sum"
   ]
  }
 ],
 "metadata": {
  "kernelspec": {
   "display_name": "Julia 1.3.0-rc3",
   "language": "julia",
   "name": "julia-1.3"
  },
  "language_info": {
   "file_extension": ".jl",
   "mimetype": "application/julia",
   "name": "julia",
   "version": "1.3.0"
  }
 },
 "nbformat": 4,
 "nbformat_minor": 2
}
